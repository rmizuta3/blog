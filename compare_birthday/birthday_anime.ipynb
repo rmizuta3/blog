{
 "cells": [
  {
   "cell_type": "code",
   "execution_count": 70,
   "metadata": {},
   "outputs": [],
   "source": [
    "import requests\n",
    "from bs4 import BeautifulSoup\n",
    "import time\n",
    "import datetime\n",
    "import logging\n",
    "import pandas as pd\n",
    "import re\n",
    "\n",
    "mlist=[\"01\",\"02\",\"03\",\"04\",\"05\",\"06\",\"07\",\"08\",\"09\",\"10\",\"11\",\"12\"]\n",
    "\n",
    "result=pd.DataFrame()\n",
    "for month in mlist:\n",
    "    monthresult=pd.DataFrame()\n",
    "    \n",
    "    s = requests.Session()\n",
    "    r = s.get(f\"https://days366.com/title/{month}.html\")\n",
    "    r.encoding = 'utf-8' #文字化け対策\n",
    "    soup = BeautifulSoup(r.text)\n",
    "    time.sleep(1)\n",
    "\n",
    "    tmp=soup.find_all(\"a\",href=re.compile(\"https://days366.com/title/\"))\n",
    "    \n",
    "    date=[]\n",
    "    num=[]\n",
    "    for i in tmp[0].find_all(\"div\", class_=\"ajax-iine\"):\n",
    "        date.append(i.get(\"data-pid\"))\n",
    "    for i in tmp[0].find_all(\"h3\"):\n",
    "        num.append(i.text.split(\"キャラ\")[0])\n",
    "    \n",
    "    monthresult[\"date\"]=date\n",
    "    monthresult[\"num\"]=num\n",
    "    \n",
    "    result=pd.concat([result,monthresult])"
   ]
  },
  {
   "cell_type": "code",
   "execution_count": 73,
   "metadata": {},
   "outputs": [],
   "source": [
    "result.to_csv(\"birthday_animechara.csv\",index=False)"
   ]
  }
 ],
 "metadata": {
  "kernelspec": {
   "display_name": "Python 3",
   "language": "python",
   "name": "python3"
  },
  "language_info": {
   "codemirror_mode": {
    "name": "ipython",
    "version": 3
   },
   "file_extension": ".py",
   "mimetype": "text/x-python",
   "name": "python",
   "nbconvert_exporter": "python",
   "pygments_lexer": "ipython3",
   "version": "3.6.8"
  }
 },
 "nbformat": 4,
 "nbformat_minor": 2
}

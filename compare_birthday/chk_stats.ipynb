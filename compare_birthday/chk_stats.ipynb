{
 "cells": [
  {
   "cell_type": "code",
   "execution_count": 20,
   "metadata": {},
   "outputs": [],
   "source": [
    "import pandas as pd\n",
    "import csv\n",
    "import re\n",
    "import os\n",
    "import glob\n",
    "import numpy as np\n",
    "import matplotlib.pyplot as plt\n",
    "import mojimoji\n",
    "import japanize_matplotlib\n",
    "%matplotlib inline"
   ]
  },
  {
   "cell_type": "code",
   "execution_count": 2,
   "metadata": {},
   "outputs": [],
   "source": [
    "df_anime=pd.read_csv(\"./birthday_animechara.csv\")\n",
    "df_estats=pd.read_csv(\"./birthday_estat_1999-2018.csv\",usecols=[\"date\",\"cnt_all\"])"
   ]
  },
  {
   "cell_type": "code",
   "execution_count": 3,
   "metadata": {},
   "outputs": [],
   "source": [
    "df_estats[\"date\"]=df_estats[\"date\"].apply(lambda x:mojimoji.zen_to_han(x))\n",
    "df_estats=df_estats[df_estats[\"cnt_all\"]!=0]"
   ]
  },
  {
   "cell_type": "code",
   "execution_count": 4,
   "metadata": {},
   "outputs": [],
   "source": [
    "df=pd.merge(df_estats,df_anime,on=\"date\",how=\"left\")"
   ]
  },
  {
   "cell_type": "code",
   "execution_count": 5,
   "metadata": {},
   "outputs": [],
   "source": [
    "df[\"rate_cnt_all\"]=df[\"cnt_all\"]/df[\"cnt_all\"].sum()\n",
    "df[\"power_cnt_all\"]=df[\"cnt_all\"]/df[\"cnt_all\"].mean()\n",
    "df[\"rate_num\"]=df[\"num\"]/df[\"num\"].sum()\n",
    "df[\"power_num\"]=df[\"num\"]/df[\"num\"].mean()"
   ]
  },
  {
   "cell_type": "code",
   "execution_count": 7,
   "metadata": {},
   "outputs": [
    {
     "data": {
      "text/html": [
       "<div>\n",
       "<style scoped>\n",
       "    .dataframe tbody tr th:only-of-type {\n",
       "        vertical-align: middle;\n",
       "    }\n",
       "\n",
       "    .dataframe tbody tr th {\n",
       "        vertical-align: top;\n",
       "    }\n",
       "\n",
       "    .dataframe thead th {\n",
       "        text-align: right;\n",
       "    }\n",
       "</style>\n",
       "<table border=\"1\" class=\"dataframe\">\n",
       "  <thead>\n",
       "    <tr style=\"text-align: right;\">\n",
       "      <th></th>\n",
       "      <th>date</th>\n",
       "      <th>cnt_all</th>\n",
       "      <th>num</th>\n",
       "      <th>rate_cnt_all</th>\n",
       "      <th>power_cnt_all</th>\n",
       "      <th>rate_num</th>\n",
       "      <th>power_num</th>\n",
       "    </tr>\n",
       "  </thead>\n",
       "  <tbody>\n",
       "    <tr>\n",
       "      <th>59</th>\n",
       "      <td>2月29日</td>\n",
       "      <td>12704.0</td>\n",
       "      <td>129</td>\n",
       "      <td>0.000594</td>\n",
       "      <td>0.217548</td>\n",
       "      <td>0.003285</td>\n",
       "      <td>1.202384</td>\n",
       "    </tr>\n",
       "    <tr>\n",
       "      <th>0</th>\n",
       "      <td>1月1日</td>\n",
       "      <td>40602.0</td>\n",
       "      <td>393</td>\n",
       "      <td>0.001900</td>\n",
       "      <td>0.695282</td>\n",
       "      <td>0.010008</td>\n",
       "      <td>3.663076</td>\n",
       "    </tr>\n",
       "    <tr>\n",
       "      <th>1</th>\n",
       "      <td>1月2日</td>\n",
       "      <td>40884.0</td>\n",
       "      <td>98</td>\n",
       "      <td>0.001913</td>\n",
       "      <td>0.700111</td>\n",
       "      <td>0.002496</td>\n",
       "      <td>0.913439</td>\n",
       "    </tr>\n",
       "    <tr>\n",
       "      <th>365</th>\n",
       "      <td>12月31日</td>\n",
       "      <td>42460.0</td>\n",
       "      <td>128</td>\n",
       "      <td>0.001987</td>\n",
       "      <td>0.727099</td>\n",
       "      <td>0.003260</td>\n",
       "      <td>1.193063</td>\n",
       "    </tr>\n",
       "    <tr>\n",
       "      <th>2</th>\n",
       "      <td>1月3日</td>\n",
       "      <td>43607.0</td>\n",
       "      <td>123</td>\n",
       "      <td>0.002040</td>\n",
       "      <td>0.746741</td>\n",
       "      <td>0.003132</td>\n",
       "      <td>1.146459</td>\n",
       "    </tr>\n",
       "  </tbody>\n",
       "</table>\n",
       "</div>"
      ],
      "text/plain": [
       "       date  cnt_all  num  rate_cnt_all  power_cnt_all  rate_num  power_num\n",
       "59    2月29日  12704.0  129      0.000594       0.217548  0.003285   1.202384\n",
       "0      1月1日  40602.0  393      0.001900       0.695282  0.010008   3.663076\n",
       "1      1月2日  40884.0   98      0.001913       0.700111  0.002496   0.913439\n",
       "365  12月31日  42460.0  128      0.001987       0.727099  0.003260   1.193063\n",
       "2      1月3日  43607.0  123      0.002040       0.746741  0.003132   1.146459"
      ]
     },
     "execution_count": 7,
     "metadata": {},
     "output_type": "execute_result"
    }
   ],
   "source": [
    "#政府統計WORST5\n",
    "df.sort_values(by=\"cnt_all\").head(5)"
   ]
  },
  {
   "cell_type": "code",
   "execution_count": 8,
   "metadata": {},
   "outputs": [
    {
     "data": {
      "text/html": [
       "<div>\n",
       "<style scoped>\n",
       "    .dataframe tbody tr th:only-of-type {\n",
       "        vertical-align: middle;\n",
       "    }\n",
       "\n",
       "    .dataframe tbody tr th {\n",
       "        vertical-align: top;\n",
       "    }\n",
       "\n",
       "    .dataframe thead th {\n",
       "        text-align: right;\n",
       "    }\n",
       "</style>\n",
       "<table border=\"1\" class=\"dataframe\">\n",
       "  <thead>\n",
       "    <tr style=\"text-align: right;\">\n",
       "      <th></th>\n",
       "      <th>date</th>\n",
       "      <th>cnt_all</th>\n",
       "      <th>num</th>\n",
       "      <th>rate_cnt_all</th>\n",
       "      <th>power_cnt_all</th>\n",
       "      <th>rate_num</th>\n",
       "      <th>power_num</th>\n",
       "    </tr>\n",
       "  </thead>\n",
       "  <tbody>\n",
       "    <tr>\n",
       "      <th>268</th>\n",
       "      <td>9月25日</td>\n",
       "      <td>66897.0</td>\n",
       "      <td>90</td>\n",
       "      <td>0.003130</td>\n",
       "      <td>1.145567</td>\n",
       "      <td>0.002292</td>\n",
       "      <td>0.838872</td>\n",
       "    </tr>\n",
       "    <tr>\n",
       "      <th>4</th>\n",
       "      <td>1月5日</td>\n",
       "      <td>66896.0</td>\n",
       "      <td>104</td>\n",
       "      <td>0.003130</td>\n",
       "      <td>1.145550</td>\n",
       "      <td>0.002649</td>\n",
       "      <td>0.969364</td>\n",
       "    </tr>\n",
       "    <tr>\n",
       "      <th>359</th>\n",
       "      <td>12月25日</td>\n",
       "      <td>66848.0</td>\n",
       "      <td>236</td>\n",
       "      <td>0.003128</td>\n",
       "      <td>1.144728</td>\n",
       "      <td>0.006010</td>\n",
       "      <td>2.199710</td>\n",
       "    </tr>\n",
       "    <tr>\n",
       "      <th>269</th>\n",
       "      <td>9月26日</td>\n",
       "      <td>66827.0</td>\n",
       "      <td>74</td>\n",
       "      <td>0.003127</td>\n",
       "      <td>1.144368</td>\n",
       "      <td>0.001885</td>\n",
       "      <td>0.689739</td>\n",
       "    </tr>\n",
       "    <tr>\n",
       "      <th>122</th>\n",
       "      <td>5月2日</td>\n",
       "      <td>66363.0</td>\n",
       "      <td>117</td>\n",
       "      <td>0.003105</td>\n",
       "      <td>1.136422</td>\n",
       "      <td>0.002980</td>\n",
       "      <td>1.090534</td>\n",
       "    </tr>\n",
       "  </tbody>\n",
       "</table>\n",
       "</div>"
      ],
      "text/plain": [
       "       date  cnt_all  num  rate_cnt_all  power_cnt_all  rate_num  power_num\n",
       "268   9月25日  66897.0   90      0.003130       1.145567  0.002292   0.838872\n",
       "4      1月5日  66896.0  104      0.003130       1.145550  0.002649   0.969364\n",
       "359  12月25日  66848.0  236      0.003128       1.144728  0.006010   2.199710\n",
       "269   9月26日  66827.0   74      0.003127       1.144368  0.001885   0.689739\n",
       "122    5月2日  66363.0  117      0.003105       1.136422  0.002980   1.090534"
      ]
     },
     "execution_count": 8,
     "metadata": {},
     "output_type": "execute_result"
    }
   ],
   "source": [
    "#政府統計TOP5\n",
    "df.sort_values(by=\"cnt_all\",ascending=False).head(5)"
   ]
  },
  {
   "cell_type": "code",
   "execution_count": 9,
   "metadata": {},
   "outputs": [
    {
     "data": {
      "text/html": [
       "<div>\n",
       "<style scoped>\n",
       "    .dataframe tbody tr th:only-of-type {\n",
       "        vertical-align: middle;\n",
       "    }\n",
       "\n",
       "    .dataframe tbody tr th {\n",
       "        vertical-align: top;\n",
       "    }\n",
       "\n",
       "    .dataframe thead th {\n",
       "        text-align: right;\n",
       "    }\n",
       "</style>\n",
       "<table border=\"1\" class=\"dataframe\">\n",
       "  <thead>\n",
       "    <tr style=\"text-align: right;\">\n",
       "      <th></th>\n",
       "      <th>date</th>\n",
       "      <th>cnt_all</th>\n",
       "      <th>num</th>\n",
       "      <th>rate_cnt_all</th>\n",
       "      <th>power_cnt_all</th>\n",
       "      <th>rate_num</th>\n",
       "      <th>power_num</th>\n",
       "    </tr>\n",
       "  </thead>\n",
       "  <tbody>\n",
       "    <tr>\n",
       "      <th>146</th>\n",
       "      <td>5月26日</td>\n",
       "      <td>56492.0</td>\n",
       "      <td>42</td>\n",
       "      <td>0.002643</td>\n",
       "      <td>0.967388</td>\n",
       "      <td>0.001070</td>\n",
       "      <td>0.391474</td>\n",
       "    </tr>\n",
       "    <tr>\n",
       "      <th>345</th>\n",
       "      <td>12月11日</td>\n",
       "      <td>57466.0</td>\n",
       "      <td>43</td>\n",
       "      <td>0.002689</td>\n",
       "      <td>0.984067</td>\n",
       "      <td>0.001095</td>\n",
       "      <td>0.400795</td>\n",
       "    </tr>\n",
       "    <tr>\n",
       "      <th>25</th>\n",
       "      <td>1月26日</td>\n",
       "      <td>61843.0</td>\n",
       "      <td>49</td>\n",
       "      <td>0.002893</td>\n",
       "      <td>1.059020</td>\n",
       "      <td>0.001248</td>\n",
       "      <td>0.456719</td>\n",
       "    </tr>\n",
       "    <tr>\n",
       "      <th>351</th>\n",
       "      <td>12月17日</td>\n",
       "      <td>58144.0</td>\n",
       "      <td>50</td>\n",
       "      <td>0.002720</td>\n",
       "      <td>0.995677</td>\n",
       "      <td>0.001273</td>\n",
       "      <td>0.466040</td>\n",
       "    </tr>\n",
       "    <tr>\n",
       "      <th>149</th>\n",
       "      <td>5月29日</td>\n",
       "      <td>56433.0</td>\n",
       "      <td>54</td>\n",
       "      <td>0.002640</td>\n",
       "      <td>0.966378</td>\n",
       "      <td>0.001375</td>\n",
       "      <td>0.503323</td>\n",
       "    </tr>\n",
       "  </tbody>\n",
       "</table>\n",
       "</div>"
      ],
      "text/plain": [
       "       date  cnt_all  num  rate_cnt_all  power_cnt_all  rate_num  power_num\n",
       "146   5月26日  56492.0   42      0.002643       0.967388  0.001070   0.391474\n",
       "345  12月11日  57466.0   43      0.002689       0.984067  0.001095   0.400795\n",
       "25    1月26日  61843.0   49      0.002893       1.059020  0.001248   0.456719\n",
       "351  12月17日  58144.0   50      0.002720       0.995677  0.001273   0.466040\n",
       "149   5月29日  56433.0   54      0.002640       0.966378  0.001375   0.503323"
      ]
     },
     "execution_count": 9,
     "metadata": {},
     "output_type": "execute_result"
    }
   ],
   "source": [
    "#キャラクター統計WORST5\n",
    "df.sort_values(by=\"rate_num\").head(5)"
   ]
  },
  {
   "cell_type": "code",
   "execution_count": 10,
   "metadata": {},
   "outputs": [
    {
     "data": {
      "text/html": [
       "<div>\n",
       "<style scoped>\n",
       "    .dataframe tbody tr th:only-of-type {\n",
       "        vertical-align: middle;\n",
       "    }\n",
       "\n",
       "    .dataframe tbody tr th {\n",
       "        vertical-align: top;\n",
       "    }\n",
       "\n",
       "    .dataframe thead th {\n",
       "        text-align: right;\n",
       "    }\n",
       "</style>\n",
       "<table border=\"1\" class=\"dataframe\">\n",
       "  <thead>\n",
       "    <tr style=\"text-align: right;\">\n",
       "      <th></th>\n",
       "      <th>date</th>\n",
       "      <th>cnt_all</th>\n",
       "      <th>num</th>\n",
       "      <th>rate_cnt_all</th>\n",
       "      <th>power_cnt_all</th>\n",
       "      <th>rate_num</th>\n",
       "      <th>power_num</th>\n",
       "    </tr>\n",
       "  </thead>\n",
       "  <tbody>\n",
       "    <tr>\n",
       "      <th>188</th>\n",
       "      <td>7月7日</td>\n",
       "      <td>63886.0</td>\n",
       "      <td>904</td>\n",
       "      <td>0.002989</td>\n",
       "      <td>1.094005</td>\n",
       "      <td>0.023022</td>\n",
       "      <td>8.426007</td>\n",
       "    </tr>\n",
       "    <tr>\n",
       "      <th>62</th>\n",
       "      <td>3月3日</td>\n",
       "      <td>60272.0</td>\n",
       "      <td>553</td>\n",
       "      <td>0.002820</td>\n",
       "      <td>1.032118</td>\n",
       "      <td>0.014083</td>\n",
       "      <td>5.154404</td>\n",
       "    </tr>\n",
       "    <tr>\n",
       "      <th>125</th>\n",
       "      <td>5月5日</td>\n",
       "      <td>45680.0</td>\n",
       "      <td>440</td>\n",
       "      <td>0.002137</td>\n",
       "      <td>0.782240</td>\n",
       "      <td>0.011205</td>\n",
       "      <td>4.101154</td>\n",
       "    </tr>\n",
       "    <tr>\n",
       "      <th>0</th>\n",
       "      <td>1月1日</td>\n",
       "      <td>40602.0</td>\n",
       "      <td>393</td>\n",
       "      <td>0.001900</td>\n",
       "      <td>0.695282</td>\n",
       "      <td>0.010008</td>\n",
       "      <td>3.663076</td>\n",
       "    </tr>\n",
       "    <tr>\n",
       "      <th>91</th>\n",
       "      <td>4月1日</td>\n",
       "      <td>46737.0</td>\n",
       "      <td>361</td>\n",
       "      <td>0.002187</td>\n",
       "      <td>0.800340</td>\n",
       "      <td>0.009193</td>\n",
       "      <td>3.364810</td>\n",
       "    </tr>\n",
       "  </tbody>\n",
       "</table>\n",
       "</div>"
      ],
      "text/plain": [
       "     date  cnt_all  num  rate_cnt_all  power_cnt_all  rate_num  power_num\n",
       "188  7月7日  63886.0  904      0.002989       1.094005  0.023022   8.426007\n",
       "62   3月3日  60272.0  553      0.002820       1.032118  0.014083   5.154404\n",
       "125  5月5日  45680.0  440      0.002137       0.782240  0.011205   4.101154\n",
       "0    1月1日  40602.0  393      0.001900       0.695282  0.010008   3.663076\n",
       "91   4月1日  46737.0  361      0.002187       0.800340  0.009193   3.364810"
      ]
     },
     "execution_count": 10,
     "metadata": {},
     "output_type": "execute_result"
    }
   ],
   "source": [
    "#キャラクター統計TOP5\n",
    "df.sort_values(by=\"rate_num\",ascending=False).head(5)"
   ]
  },
  {
   "cell_type": "code",
   "execution_count": 11,
   "metadata": {},
   "outputs": [
    {
     "data": {
      "text/plain": [
       "Text(0, 0.5, '創作人物')"
      ]
     },
     "execution_count": 11,
     "metadata": {},
     "output_type": "execute_result"
    },
    {
     "data": {
      "image/png": "[encoded data removed]",
      "text/plain": [
       "<Figure size 432x288 with 1 Axes>"
      ]
     },
     "metadata": {
      "needs_background": "light"
     },
     "output_type": "display_data"
    }
   ],
   "source": [
    "plt.scatter(df[\"rate_cnt_all\"],df[\"rate_num\"])\n",
    "plt.xlim([0,0.025])\n",
    "plt.ylim([0,0.025])\n",
    "plt.xlabel(\"実在人物\")\n",
    "plt.ylabel(\"創作人物\")"
   ]
  },
  {
   "cell_type": "code",
   "execution_count": 12,
   "metadata": {},
   "outputs": [
    {
     "name": "stdout",
     "output_type": "stream",
     "text": [
      "16919.102549213378\n",
      "0.0\n"
     ]
    }
   ],
   "source": [
    "#独立性検定\n",
    "from scipy import stats\n",
    "kai,pvalue,_,_=stats.chi2_contingency(df.iloc[:,1:])\n",
    "print(kai)\n",
    "print(pvalue)"
   ]
  },
  {
   "cell_type": "code",
   "execution_count": 13,
   "metadata": {},
   "outputs": [
    {
     "data": {
      "text/html": [
       "<div>\n",
       "<style scoped>\n",
       "    .dataframe tbody tr th:only-of-type {\n",
       "        vertical-align: middle;\n",
       "    }\n",
       "\n",
       "    .dataframe tbody tr th {\n",
       "        vertical-align: top;\n",
       "    }\n",
       "\n",
       "    .dataframe thead th {\n",
       "        text-align: right;\n",
       "    }\n",
       "</style>\n",
       "<table border=\"1\" class=\"dataframe\">\n",
       "  <thead>\n",
       "    <tr style=\"text-align: right;\">\n",
       "      <th></th>\n",
       "      <th>date</th>\n",
       "      <th>cnt_all</th>\n",
       "      <th>num</th>\n",
       "      <th>rate_cnt_all</th>\n",
       "      <th>power_cnt_all</th>\n",
       "      <th>rate_num</th>\n",
       "      <th>power_num</th>\n",
       "    </tr>\n",
       "  </thead>\n",
       "  <tbody>\n",
       "    <tr>\n",
       "      <th>188</th>\n",
       "      <td>7月7日</td>\n",
       "      <td>63886.0</td>\n",
       "      <td>904</td>\n",
       "      <td>0.002989</td>\n",
       "      <td>1.094005</td>\n",
       "      <td>0.023022</td>\n",
       "      <td>8.426007</td>\n",
       "    </tr>\n",
       "  </tbody>\n",
       "</table>\n",
       "</div>"
      ],
      "text/plain": [
       "     date  cnt_all  num  rate_cnt_all  power_cnt_all  rate_num  power_num\n",
       "188  7月7日  63886.0  904      0.002989       1.094005  0.023022   8.426007"
      ]
     },
     "execution_count": 13,
     "metadata": {},
     "output_type": "execute_result"
    }
   ],
   "source": [
    "#7/7のカイ二乗値の計算\n",
    "df[df[\"date\"]==\"7月7日\"]"
   ]
  },
  {
   "cell_type": "code",
   "execution_count": 14,
   "metadata": {},
   "outputs": [
    {
     "data": {
      "text/plain": [
       "21373093.0"
      ]
     },
     "metadata": {},
     "output_type": "display_data"
    },
    {
     "data": {
      "text/plain": [
       "39267"
      ]
     },
     "metadata": {},
     "output_type": "display_data"
    }
   ],
   "source": [
    "display(df[\"cnt_all\"].sum())\n",
    "display(df[\"num\"].sum())"
   ]
  },
  {
   "cell_type": "code",
   "execution_count": 15,
   "metadata": {},
   "outputs": [
    {
     "data": {
      "text/plain": [
       "118.81497088597426"
      ]
     },
     "execution_count": 15,
     "metadata": {},
     "output_type": "execute_result"
    }
   ],
   "source": [
    "(63886+904)*(39267/(39267+21373093))##期待値"
   ]
  },
  {
   "cell_type": "code",
   "execution_count": 16,
   "metadata": {},
   "outputs": [
    {
     "data": {
      "text/plain": [
       "5178.361344537815"
      ]
     },
     "execution_count": 16,
     "metadata": {},
     "output_type": "execute_result"
    }
   ],
   "source": [
    "(119-904)**2/119 #カイ二乗値"
   ]
  },
  {
   "cell_type": "code",
   "execution_count": 17,
   "metadata": {},
   "outputs": [],
   "source": [
    "#有意水準\n",
    "_, chi2_99 = stats.chi2.interval(alpha=0.98, df=366)"
   ]
  },
  {
   "cell_type": "code",
   "execution_count": 18,
   "metadata": {},
   "outputs": [
    {
     "data": {
      "text/plain": [
       "431.86516746277834"
      ]
     },
     "execution_count": 18,
     "metadata": {},
     "output_type": "execute_result"
    }
   ],
   "source": [
    "chi2_99"
   ]
  },
  {
   "cell_type": "code",
   "execution_count": 21,
   "metadata": {},
   "outputs": [
    {
     "data": {
      "text/plain": [
       "(0.0, 0.01)"
      ]
     },
     "execution_count": 21,
     "metadata": {},
     "output_type": "execute_result"
    },
    {
     "data": {
      "image/png": "[encoded data removed]",
      "text/plain": [
       "<Figure size 432x288 with 1 Axes>"
      ]
     },
     "metadata": {
      "needs_background": "light"
     },
     "output_type": "display_data"
    }
   ],
   "source": [
    "import seaborn as sns\n",
    "sns.distplot(df[\"rate_cnt_all\"])\n",
    "sns.distplot(df[\"rate_num\"])\n",
    "plt.xlim([0,0.010])"
   ]
  },
  {
   "cell_type": "code",
   "execution_count": null,
   "metadata": {},
   "outputs": [],
   "source": []
  }
 ],
 "metadata": {
  "kernelspec": {
   "display_name": "Python 3",
   "language": "python",
   "name": "python3"
  },
  "language_info": {
   "codemirror_mode": {
    "name": "ipython",
    "version": 3
   },
   "file_extension": ".py",
   "mimetype": "text/x-python",
   "name": "python",
   "nbconvert_exporter": "python",
   "pygments_lexer": "ipython3",
   "version": "3.6.8"
  }
 },
 "nbformat": 4,
 "nbformat_minor": 2
}

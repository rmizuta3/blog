{
 "cells": [
  {
   "cell_type": "code",
   "execution_count": 1,
   "metadata": {},
   "outputs": [],
   "source": [
    "import pandas as pd\n",
    "import csv\n",
    "import re\n",
    "import os\n",
    "import glob\n",
    "import numpy as np\n",
    "import matplotlib.pyplot as plt\n",
    "%matplotlib inline"
   ]
  },
  {
   "cell_type": "code",
   "execution_count": 2,
   "metadata": {},
   "outputs": [],
   "source": [
    "def parsecsv(filename):\n",
    "    with open(f'{filename}',encoding=\"cp932\") as f:\n",
    "        yeardf=pd.DataFrame()\n",
    "        reader = csv.reader(f)\n",
    "\n",
    "        date=[]\n",
    "        num=[]\n",
    "        month=\"\"\n",
    "        for row in reader:\n",
    "            if len(row)==0:\n",
    "                continue\n",
    "            if (\"月\" in row[0]) & (\"総\" in row[0]):\n",
    "                month=row[0].split(\"*\")[1]\n",
    "                \n",
    "            if (\"日\" in row[0]) & (len(month)!=0):\n",
    "                date.append(f\"{month}{row[0]}\")\n",
    "                num.append(row[1])\n",
    "\n",
    "                if f\"{month}{row[0]}\" == \"１２月３１日\":\n",
    "                    break\n",
    "\n",
    "    yeardf[\"date\"]=date\n",
    "    yeardf[\"num\"]=num\n",
    "    return yeardf"
   ]
  },
  {
   "cell_type": "code",
   "execution_count": 3,
   "metadata": {},
   "outputs": [],
   "source": [
    "l = glob.glob('data/*')\n",
    "l.sort()\n",
    "\n",
    "result=pd.DataFrame()\n",
    "for yeardata in l[3:]: #1998年以前はフォーマットが異なるためスキップ\n",
    "    df=parsecsv(yeardata)\n",
    "    df.columns=[\"date\",f\"cnt_{yeardata.split('/')[1].split('.')[0]}\"]\n",
    "    if len(result)==0:\n",
    "        result=df.copy()\n",
    "    else:\n",
    "        result=pd.merge(result,df,on=\"date\",how=\"outer\")"
   ]
  },
  {
   "cell_type": "code",
   "execution_count": 4,
   "metadata": {},
   "outputs": [],
   "source": [
    "result.iloc[:,1:]=result.iloc[:,1:].replace(\"-\",0).astype(int) #欠損値対応"
   ]
  },
  {
   "cell_type": "code",
   "execution_count": 5,
   "metadata": {},
   "outputs": [],
   "source": [
    "result[\"cnt_all\"]=result.iloc[:,1:].sum(axis=1)"
   ]
  },
  {
   "cell_type": "code",
   "execution_count": 6,
   "metadata": {},
   "outputs": [
    {
     "data": {
      "text/html": [
       "<div>\n",
       "<style scoped>\n",
       "    .dataframe tbody tr th:only-of-type {\n",
       "        vertical-align: middle;\n",
       "    }\n",
       "\n",
       "    .dataframe tbody tr th {\n",
       "        vertical-align: top;\n",
       "    }\n",
       "\n",
       "    .dataframe thead th {\n",
       "        text-align: right;\n",
       "    }\n",
       "</style>\n",
       "<table border=\"1\" class=\"dataframe\">\n",
       "  <thead>\n",
       "    <tr style=\"text-align: right;\">\n",
       "      <th></th>\n",
       "      <th>date</th>\n",
       "      <th>cnt_1999</th>\n",
       "      <th>cnt_2000</th>\n",
       "      <th>cnt_2001</th>\n",
       "      <th>cnt_2002</th>\n",
       "      <th>cnt_2003</th>\n",
       "      <th>cnt_2004</th>\n",
       "      <th>cnt_2005</th>\n",
       "      <th>cnt_2006</th>\n",
       "      <th>cnt_2007</th>\n",
       "      <th>...</th>\n",
       "      <th>cnt_2010</th>\n",
       "      <th>cnt_2011</th>\n",
       "      <th>cnt_2012</th>\n",
       "      <th>cnt_2013</th>\n",
       "      <th>cnt_2014</th>\n",
       "      <th>cnt_2015</th>\n",
       "      <th>cnt_2016</th>\n",
       "      <th>cnt_2017</th>\n",
       "      <th>cnt_2018</th>\n",
       "      <th>cnt_all</th>\n",
       "    </tr>\n",
       "  </thead>\n",
       "  <tbody>\n",
       "    <tr>\n",
       "      <th>0</th>\n",
       "      <td>１月１日</td>\n",
       "      <td>2372</td>\n",
       "      <td>2547</td>\n",
       "      <td>2409</td>\n",
       "      <td>2302</td>\n",
       "      <td>2263</td>\n",
       "      <td>2118</td>\n",
       "      <td>2139</td>\n",
       "      <td>2018</td>\n",
       "      <td>2042</td>\n",
       "      <td>...</td>\n",
       "      <td>1964</td>\n",
       "      <td>2012</td>\n",
       "      <td>1877</td>\n",
       "      <td>1902</td>\n",
       "      <td>1873</td>\n",
       "      <td>1777</td>\n",
       "      <td>1854</td>\n",
       "      <td>1589</td>\n",
       "      <td>1684</td>\n",
       "      <td>40602.0</td>\n",
       "    </tr>\n",
       "    <tr>\n",
       "      <th>1</th>\n",
       "      <td>１月２日</td>\n",
       "      <td>2362</td>\n",
       "      <td>2454</td>\n",
       "      <td>2334</td>\n",
       "      <td>2341</td>\n",
       "      <td>2307</td>\n",
       "      <td>2245</td>\n",
       "      <td>2046</td>\n",
       "      <td>2022</td>\n",
       "      <td>2107</td>\n",
       "      <td>...</td>\n",
       "      <td>2069</td>\n",
       "      <td>1961</td>\n",
       "      <td>1989</td>\n",
       "      <td>1837</td>\n",
       "      <td>1883</td>\n",
       "      <td>1800</td>\n",
       "      <td>1788</td>\n",
       "      <td>1663</td>\n",
       "      <td>1687</td>\n",
       "      <td>40884.0</td>\n",
       "    </tr>\n",
       "    <tr>\n",
       "      <th>2</th>\n",
       "      <td>１月３日</td>\n",
       "      <td>2560</td>\n",
       "      <td>2603</td>\n",
       "      <td>2591</td>\n",
       "      <td>2426</td>\n",
       "      <td>2388</td>\n",
       "      <td>2329</td>\n",
       "      <td>2184</td>\n",
       "      <td>2210</td>\n",
       "      <td>2316</td>\n",
       "      <td>...</td>\n",
       "      <td>2155</td>\n",
       "      <td>2090</td>\n",
       "      <td>2038</td>\n",
       "      <td>1991</td>\n",
       "      <td>1948</td>\n",
       "      <td>1946</td>\n",
       "      <td>1886</td>\n",
       "      <td>1767</td>\n",
       "      <td>1795</td>\n",
       "      <td>43607.0</td>\n",
       "    </tr>\n",
       "    <tr>\n",
       "      <th>3</th>\n",
       "      <td>１月４日</td>\n",
       "      <td>3049</td>\n",
       "      <td>3207</td>\n",
       "      <td>3308</td>\n",
       "      <td>3176</td>\n",
       "      <td>2720</td>\n",
       "      <td>2363</td>\n",
       "      <td>2956</td>\n",
       "      <td>2934</td>\n",
       "      <td>3082</td>\n",
       "      <td>...</td>\n",
       "      <td>2877</td>\n",
       "      <td>2959</td>\n",
       "      <td>3019</td>\n",
       "      <td>3095</td>\n",
       "      <td>2430</td>\n",
       "      <td>2132</td>\n",
       "      <td>2784</td>\n",
       "      <td>2759</td>\n",
       "      <td>2821</td>\n",
       "      <td>57080.0</td>\n",
       "    </tr>\n",
       "    <tr>\n",
       "      <th>4</th>\n",
       "      <td>１月５日</td>\n",
       "      <td>3811</td>\n",
       "      <td>3836</td>\n",
       "      <td>3942</td>\n",
       "      <td>3248</td>\n",
       "      <td>2626</td>\n",
       "      <td>3219</td>\n",
       "      <td>3697</td>\n",
       "      <td>3548</td>\n",
       "      <td>3810</td>\n",
       "      <td>...</td>\n",
       "      <td>3614</td>\n",
       "      <td>3548</td>\n",
       "      <td>3722</td>\n",
       "      <td>2723</td>\n",
       "      <td>2193</td>\n",
       "      <td>3134</td>\n",
       "      <td>3414</td>\n",
       "      <td>3323</td>\n",
       "      <td>3487</td>\n",
       "      <td>66896.0</td>\n",
       "    </tr>\n",
       "  </tbody>\n",
       "</table>\n",
       "<p>5 rows × 22 columns</p>\n",
       "</div>"
      ],
      "text/plain": [
       "   date cnt_1999 cnt_2000 cnt_2001 cnt_2002 cnt_2003 cnt_2004 cnt_2005  \\\n",
       "0  １月１日     2372     2547     2409     2302     2263     2118     2139   \n",
       "1  １月２日     2362     2454     2334     2341     2307     2245     2046   \n",
       "2  １月３日     2560     2603     2591     2426     2388     2329     2184   \n",
       "3  １月４日     3049     3207     3308     3176     2720     2363     2956   \n",
       "4  １月５日     3811     3836     3942     3248     2626     3219     3697   \n",
       "\n",
       "  cnt_2006 cnt_2007  ... cnt_2010 cnt_2011 cnt_2012 cnt_2013 cnt_2014  \\\n",
       "0     2018     2042  ...     1964     2012     1877     1902     1873   \n",
       "1     2022     2107  ...     2069     1961     1989     1837     1883   \n",
       "2     2210     2316  ...     2155     2090     2038     1991     1948   \n",
       "3     2934     3082  ...     2877     2959     3019     3095     2430   \n",
       "4     3548     3810  ...     3614     3548     3722     2723     2193   \n",
       "\n",
       "  cnt_2015 cnt_2016 cnt_2017 cnt_2018  cnt_all  \n",
       "0     1777     1854     1589     1684  40602.0  \n",
       "1     1800     1788     1663     1687  40884.0  \n",
       "2     1946     1886     1767     1795  43607.0  \n",
       "3     2132     2784     2759     2821  57080.0  \n",
       "4     3134     3414     3323     3487  66896.0  \n",
       "\n",
       "[5 rows x 22 columns]"
      ]
     },
     "execution_count": 6,
     "metadata": {},
     "output_type": "execute_result"
    }
   ],
   "source": [
    "result.head()"
   ]
  },
  {
   "cell_type": "code",
   "execution_count": 7,
   "metadata": {},
   "outputs": [],
   "source": [
    "result.to_csv(\"birthday_estat_1999-2018.csv\",index=False)"
   ]
  },
  {
   "cell_type": "code",
   "execution_count": 8,
   "metadata": {
    "scrolled": true
   },
   "outputs": [
    {
     "data": {
      "text/plain": [
       "(30000.0, 70000.0)"
      ]
     },
     "execution_count": 8,
     "metadata": {},
     "output_type": "execute_result"
    },
    {
     "data": {
      "image/png": "[encoded data removed]",
      "text/plain": [
       "<Figure size 432x288 with 1 Axes>"
      ]
     },
     "metadata": {
      "needs_background": "light"
     },
     "output_type": "display_data"
    }
   ],
   "source": [
    "result[\"cnt_all\"].hist(bins=30)\n",
    "plt.xlim([30000,70000])"
   ]
  }
 ],
 "metadata": {
  "kernelspec": {
   "display_name": "Python 3",
   "language": "python",
   "name": "python3"
  },
  "language_info": {
   "codemirror_mode": {
    "name": "ipython",
    "version": 3
   },
   "file_extension": ".py",
   "mimetype": "text/x-python",
   "name": "python",
   "nbconvert_exporter": "python",
   "pygments_lexer": "ipython3",
   "version": "3.6.8"
  }
 },
 "nbformat": 4,
 "nbformat_minor": 2
}

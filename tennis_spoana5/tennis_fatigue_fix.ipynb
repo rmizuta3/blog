{
 "cells": [
  {
   "cell_type": "code",
   "execution_count": 1,
   "metadata": {},
   "outputs": [],
   "source": [
    "import pandas as pd\n",
    "import numpy as np\n",
    "import matplotlib.pyplot as plt\n",
    "import os\n",
    "import seaborn as sns\n",
    "import warnings\n",
    "import japanize_matplotlib\n",
    "pd.set_option(\"display.max_rows\", 101)\n",
    "pd.set_option(\"display.max_columns\", 101)\n",
    "warnings.filterwarnings(\"ignore\")\n",
    "%matplotlib inline\n",
    "%config InlineBackend.figure_format = 'retina'"
   ]
  },
  {
   "cell_type": "code",
   "execution_count": 2,
   "metadata": {},
   "outputs": [],
   "source": [
    "#試合データの読み込み\n",
    "atp2018=pd.read_csv(\"../tennis_atp/atp_matches_2018.csv\")"
   ]
  },
  {
   "cell_type": "code",
   "execution_count": 3,
   "metadata": {},
   "outputs": [],
   "source": [
    "#疲労度の取得\n",
    "#alpha:疲労残存率\n",
    "#適用可能なのはR128の大会のみ\n",
    "\n",
    "def get_fatigue(alpha):\n",
    "    out=atp2018[(atp2018[\"best_of\"]==5)]\n",
    "    out[\"winner_totalminutes\"]=-99\n",
    "    out[\"loser_totalminutes\"]=-99\n",
    "    for index, row in out.iterrows():\n",
    "        if row[\"round\"]==\"R128\":\n",
    "            out.loc[index,\"winner_totalminutes\"]=0\n",
    "            out.loc[index,\"loser_totalminutes\"]=0\n",
    "        elif row[\"round\"]==\"R64\":\n",
    "            out.loc[index,\"winner_totalminutes\"]=out[(out[\"winner_name\"]==row[\"winner_name\"]) & (out[\"tourney_id\"]==row[\"tourney_id\"])\n",
    "                                                     & (out[\"round\"]==\"R128\")][\"minutes\"].values\n",
    "            out.loc[index,\"loser_totalminutes\"]=out[(out[\"winner_name\"]==row[\"loser_name\"]) & (out[\"tourney_id\"]==row[\"tourney_id\"])\n",
    "                                                     & (out[\"round\"]==\"R128\")][\"minutes\"].values\n",
    "        elif row[\"round\"]==\"R32\":\n",
    "            out.loc[index,\"winner_totalminutes\"]=out[(out[\"winner_name\"]==row[\"winner_name\"]) & (out[\"tourney_id\"]==row[\"tourney_id\"])\n",
    "                                                     & (out[\"round\"]==\"R64\")][\"minutes\"].values \\\n",
    "                                                        + out[(out[\"winner_name\"]==row[\"winner_name\"]) & (out[\"tourney_id\"]==row[\"tourney_id\"])\n",
    "                                                     & (out[\"round\"]==\"R64\")][\"winner_totalminutes\"].values  * alpha\n",
    "            out.loc[index,\"loser_totalminutes\"]=out[(out[\"winner_name\"]==row[\"loser_name\"]) & (out[\"tourney_id\"]==row[\"tourney_id\"])\n",
    "                                                     & (out[\"round\"]==\"R64\")][\"minutes\"].values \\\n",
    "                                                        +out[(out[\"winner_name\"]==row[\"loser_name\"]) & (out[\"tourney_id\"]==row[\"tourney_id\"]) \n",
    "                                                     & (out[\"round\"]==\"R64\")][\"winner_totalminutes\"].values * alpha\n",
    "        elif row[\"round\"]==\"R16\":\n",
    "            out.loc[index,\"winner_totalminutes\"]=out[(out[\"winner_name\"]==row[\"winner_name\"]) & (out[\"tourney_id\"]==row[\"tourney_id\"])\n",
    "                                                     & (out[\"round\"]==\"R32\")][\"minutes\"].values \\\n",
    "                                                        + out[(out[\"winner_name\"]==row[\"winner_name\"]) & (out[\"tourney_id\"]==row[\"tourney_id\"])\n",
    "                                                     & (out[\"round\"]==\"R32\")][\"winner_totalminutes\"].values * alpha\n",
    "            out.loc[index,\"loser_totalminutes\"]=out[(out[\"winner_name\"]==row[\"loser_name\"]) & (out[\"tourney_id\"]==row[\"tourney_id\"])\n",
    "                                                     & (out[\"round\"]==\"R32\")][\"minutes\"].values \\\n",
    "                                                        +out[(out[\"winner_name\"]==row[\"loser_name\"]) & (out[\"tourney_id\"]==row[\"tourney_id\"])\n",
    "                                                     & (out[\"round\"]==\"R32\")][\"winner_totalminutes\"].values * alpha\n",
    "        elif row[\"round\"]==\"QF\":\n",
    "            out.loc[index,\"winner_totalminutes\"]=out[(out[\"winner_name\"]==row[\"winner_name\"]) & (out[\"tourney_id\"]==row[\"tourney_id\"])\n",
    "                                                     & (out[\"round\"]==\"R16\")][\"minutes\"].values \\\n",
    "                                                        + out[(out[\"winner_name\"]==row[\"winner_name\"]) & (out[\"tourney_id\"]==row[\"tourney_id\"])\n",
    "                                                     & (out[\"round\"]==\"R16\")][\"winner_totalminutes\"].values * alpha\n",
    "            out.loc[index,\"loser_totalminutes\"]=out[(out[\"winner_name\"]==row[\"loser_name\"]) & (out[\"tourney_id\"]==row[\"tourney_id\"])\n",
    "                                                     & (out[\"round\"]==\"R16\")][\"minutes\"].values \\\n",
    "                                                        +out[(out[\"winner_name\"]==row[\"loser_name\"]) & (out[\"tourney_id\"]==row[\"tourney_id\"])\n",
    "                                                     & (out[\"round\"]==\"R16\")][\"winner_totalminutes\"].values * alpha\n",
    "        elif row[\"round\"]==\"SF\":\n",
    "            out.loc[index,\"winner_totalminutes\"]=out[(out[\"winner_name\"]==row[\"winner_name\"]) & (out[\"tourney_id\"]==row[\"tourney_id\"])\n",
    "                                                     & (out[\"round\"]==\"QF\")][\"minutes\"].values \\\n",
    "                                                        + out[(out[\"winner_name\"]==row[\"winner_name\"]) & (out[\"tourney_id\"]==row[\"tourney_id\"])\n",
    "                                                     & (out[\"round\"]==\"QF\")][\"winner_totalminutes\"].values * alpha\n",
    "            out.loc[index,\"loser_totalminutes\"]=out[(out[\"winner_name\"]==row[\"loser_name\"]) & (out[\"tourney_id\"]==row[\"tourney_id\"])\n",
    "                                                     & (out[\"round\"]==\"QF\")][\"minutes\"].values \\\n",
    "                                                        +out[(out[\"winner_name\"]==row[\"loser_name\"]) & (out[\"tourney_id\"]==row[\"tourney_id\"])\n",
    "                                                     & (out[\"round\"]==\"QF\")][\"winner_totalminutes\"].values * alpha\n",
    "        elif row[\"round\"]==\"F\":\n",
    "            out.loc[index,\"winner_totalminutes\"]=out[(out[\"winner_name\"]==row[\"winner_name\"]) & (out[\"tourney_id\"]==row[\"tourney_id\"])\n",
    "                                                     & (out[\"round\"]==\"SF\")][\"minutes\"].values \\\n",
    "                                                        + out[(out[\"winner_name\"]==row[\"winner_name\"]) & (out[\"tourney_id\"]==row[\"tourney_id\"])\n",
    "                                                     & (out[\"round\"]==\"SF\")][\"winner_totalminutes\"].values * alpha\n",
    "            out.loc[index,\"loser_totalminutes\"]=out[(out[\"winner_name\"]==row[\"loser_name\"]) & (out[\"tourney_id\"]==row[\"tourney_id\"])\n",
    "                                                     & (out[\"round\"]==\"SF\")][\"minutes\"].values \\\n",
    "                                                        +out[(out[\"winner_name\"]==row[\"loser_name\"]) & (out[\"tourney_id\"]==row[\"tourney_id\"])\n",
    "                                                     & (out[\"round\"]==\"SF\")][\"winner_totalminutes\"].values * alpha\n",
    "    \n",
    "    #レーティングの付与\n",
    "    out[\"winner_rating\"]=out[\"winner_name\"].map(d)\n",
    "    out[\"loser_rating\"]=out[\"loser_name\"].map(d)\n",
    "\n",
    "    out[\"rate_diff\"]=out[\"winner_rating\"]-out[\"loser_rating\"]\n",
    "    out[\"fatigue_diff\"]=out[\"winner_totalminutes\"]-out[\"loser_totalminutes\"]\n",
    "\n",
    "    return out"
   ]
  },
  {
   "cell_type": "code",
   "execution_count": 4,
   "metadata": {},
   "outputs": [],
   "source": [
    "#イロレーティングの読み込み\n",
    "elo2018=pd.read_csv(\"../elo/Rankings_2018_ye.csv\")"
   ]
  },
  {
   "cell_type": "code",
   "execution_count": 5,
   "metadata": {},
   "outputs": [
    {
     "data": {
      "text/html": [
       "<div>\n",
       "<style scoped>\n",
       "    .dataframe tbody tr th:only-of-type {\n",
       "        vertical-align: middle;\n",
       "    }\n",
       "\n",
       "    .dataframe tbody tr th {\n",
       "        vertical-align: top;\n",
       "    }\n",
       "\n",
       "    .dataframe thead th {\n",
       "        text-align: right;\n",
       "    }\n",
       "</style>\n",
       "<table border=\"1\" class=\"dataframe\">\n",
       "  <thead>\n",
       "    <tr style=\"text-align: right;\">\n",
       "      <th></th>\n",
       "      <th>rank</th>\n",
       "      <th>name</th>\n",
       "      <th>country_name</th>\n",
       "      <th>country_id</th>\n",
       "      <th>points</th>\n",
       "      <th>bestRank</th>\n",
       "      <th>bestRankDate</th>\n",
       "      <th>rankDiff</th>\n",
       "      <th>pointsDiff</th>\n",
       "      <th>bestPoints</th>\n",
       "    </tr>\n",
       "  </thead>\n",
       "  <tbody>\n",
       "    <tr>\n",
       "      <td>0</td>\n",
       "      <td>1</td>\n",
       "      <td>Rafael Nadal</td>\n",
       "      <td>Spain</td>\n",
       "      <td>ESP</td>\n",
       "      <td>2408</td>\n",
       "      <td>1</td>\n",
       "      <td>2008-06-16</td>\n",
       "      <td>0</td>\n",
       "      <td>0</td>\n",
       "      <td>2552</td>\n",
       "    </tr>\n",
       "    <tr>\n",
       "      <td>1</td>\n",
       "      <td>2</td>\n",
       "      <td>Novak Djokovic</td>\n",
       "      <td>Serbia</td>\n",
       "      <td>SRB</td>\n",
       "      <td>2401</td>\n",
       "      <td>1</td>\n",
       "      <td>2011-03-21</td>\n",
       "      <td>0</td>\n",
       "      <td>0</td>\n",
       "      <td>2629</td>\n",
       "    </tr>\n",
       "    <tr>\n",
       "      <td>2</td>\n",
       "      <td>3</td>\n",
       "      <td>Roger Federer</td>\n",
       "      <td>Switzerland</td>\n",
       "      <td>SUI</td>\n",
       "      <td>2356</td>\n",
       "      <td>1</td>\n",
       "      <td>2003-08-11</td>\n",
       "      <td>0</td>\n",
       "      <td>0</td>\n",
       "      <td>2550</td>\n",
       "    </tr>\n",
       "    <tr>\n",
       "      <td>3</td>\n",
       "      <td>4</td>\n",
       "      <td>Juan Martin Del Potro</td>\n",
       "      <td>Argentina</td>\n",
       "      <td>ARG</td>\n",
       "      <td>2264</td>\n",
       "      <td>3</td>\n",
       "      <td>2010-06-07</td>\n",
       "      <td>0</td>\n",
       "      <td>0</td>\n",
       "      <td>2329</td>\n",
       "    </tr>\n",
       "    <tr>\n",
       "      <td>4</td>\n",
       "      <td>5</td>\n",
       "      <td>Andy Murray</td>\n",
       "      <td>United Kingdom</td>\n",
       "      <td>GBR</td>\n",
       "      <td>2255</td>\n",
       "      <td>2</td>\n",
       "      <td>2009-04-19</td>\n",
       "      <td>0</td>\n",
       "      <td>0</td>\n",
       "      <td>2500</td>\n",
       "    </tr>\n",
       "  </tbody>\n",
       "</table>\n",
       "</div>"
      ],
      "text/plain": [
       "   rank                   name    country_name country_id  points  bestRank  \\\n",
       "0     1           Rafael Nadal           Spain        ESP    2408         1   \n",
       "1     2         Novak Djokovic          Serbia        SRB    2401         1   \n",
       "2     3          Roger Federer     Switzerland        SUI    2356         1   \n",
       "3     4  Juan Martin Del Potro       Argentina        ARG    2264         3   \n",
       "4     5            Andy Murray  United Kingdom        GBR    2255         2   \n",
       "\n",
       "  bestRankDate  rankDiff  pointsDiff  bestPoints  \n",
       "0   2008-06-16         0           0        2552  \n",
       "1   2011-03-21         0           0        2629  \n",
       "2   2003-08-11         0           0        2550  \n",
       "3   2010-06-07         0           0        2329  \n",
       "4   2009-04-19         0           0        2500  "
      ]
     },
     "execution_count": 5,
     "metadata": {},
     "output_type": "execute_result"
    }
   ],
   "source": [
    "elo2018.head()"
   ]
  },
  {
   "cell_type": "code",
   "execution_count": 6,
   "metadata": {},
   "outputs": [],
   "source": [
    "#表記揺れへの対応\n",
    "elo2018.loc[elo2018['name'] == \"Frances Tiafoe\", 'name'] = \"Francis Tiafoe\"\n",
    "elo2018.loc[elo2018['name'] == \"Stan Wawrinka\", 'name'] = \"Stanislas Wawrinka\""
   ]
  },
  {
   "cell_type": "code",
   "execution_count": 7,
   "metadata": {},
   "outputs": [],
   "source": [
    "#名前とレーティングの辞書化\n",
    "d={}\n",
    "for i,j in zip(elo2018[\"name\"].values,elo2018[\"points\"].values):\n",
    "    d[i]=j"
   ]
  },
  {
   "cell_type": "code",
   "execution_count": 8,
   "metadata": {},
   "outputs": [],
   "source": [
    "#疲労度の取得\n",
    "data=get_fatigue(0.8)\n",
    "\n",
    "#4大大会でないデータを除外\n",
    "data=data[data[\"round\"]!=\"RR\"]\n",
    "\n",
    "#レーティングのデータが入っていない人がいる行を除外\n",
    "data=data.dropna(subset=[\"winner_rating\",\"loser_rating\"])\n",
    "\n",
    "#回帰に入れるためのデータ整形\n",
    "X1=data[[\"rate_diff\",\"fatigue_diff\"]]\n",
    "X1[\"win\"]=1\n",
    "\n",
    "#勝敗を反転させたデータの追加\n",
    "X2=data[[\"rate_diff\",\"fatigue_diff\"]]\n",
    "X2[\"rate_diff\"]=-X2[\"rate_diff\"]\n",
    "X2[\"fatigue_diff\"]=-X2[\"fatigue_diff\"]\n",
    "X2[\"win\"]=0\n",
    "\n",
    "X12=pd.concat([X1,X2])\n",
    "y=X12[\"win\"]\n",
    "X=X12.drop([\"win\"],axis=1)"
   ]
  },
  {
   "cell_type": "code",
   "execution_count": 9,
   "metadata": {},
   "outputs": [],
   "source": [
    "#ロジスティック回帰の実施\n",
    "import statsmodels.api as sm\n",
    "logit_mod = sm.Logit(y, X)\n",
    "logit_res = logit_mod.fit(disp=0)"
   ]
  },
  {
   "cell_type": "code",
   "execution_count": 10,
   "metadata": {},
   "outputs": [
    {
     "data": {
      "text/html": [
       "<table class=\"simpletable\">\n",
       "<caption>Logit Regression Results</caption>\n",
       "<tr>\n",
       "  <th>Dep. Variable:</th>          <td>win</td>       <th>  No. Observations:  </th>  <td>   964</td>  \n",
       "</tr>\n",
       "<tr>\n",
       "  <th>Model:</th>                 <td>Logit</td>      <th>  Df Residuals:      </th>  <td>   962</td>  \n",
       "</tr>\n",
       "<tr>\n",
       "  <th>Method:</th>                 <td>MLE</td>       <th>  Df Model:          </th>  <td>     1</td>  \n",
       "</tr>\n",
       "<tr>\n",
       "  <th>Date:</th>            <td>Sun, 10 Nov 2019</td> <th>  Pseudo R-squ.:     </th>  <td>0.2928</td>  \n",
       "</tr>\n",
       "<tr>\n",
       "  <th>Time:</th>                <td>11:20:59</td>     <th>  Log-Likelihood:    </th> <td> -472.57</td> \n",
       "</tr>\n",
       "<tr>\n",
       "  <th>converged:</th>             <td>True</td>       <th>  LL-Null:           </th> <td> -668.19</td> \n",
       "</tr>\n",
       "<tr>\n",
       "  <th>Covariance Type:</th>     <td>nonrobust</td>    <th>  LLR p-value:       </th> <td>4.417e-87</td>\n",
       "</tr>\n",
       "</table>\n",
       "<table class=\"simpletable\">\n",
       "<tr>\n",
       "        <td></td>          <th>coef</th>     <th>std err</th>      <th>z</th>      <th>P>|z|</th>  <th>[0.025</th>    <th>0.975]</th>  \n",
       "</tr>\n",
       "<tr>\n",
       "  <th>rate_diff</th>    <td>    0.0070</td> <td>    0.000</td> <td>   14.147</td> <td> 0.000</td> <td>    0.006</td> <td>    0.008</td>\n",
       "</tr>\n",
       "<tr>\n",
       "  <th>fatigue_diff</th> <td>   -0.0054</td> <td>    0.002</td> <td>   -3.239</td> <td> 0.001</td> <td>   -0.009</td> <td>   -0.002</td>\n",
       "</tr>\n",
       "</table>"
      ],
      "text/plain": [
       "<class 'statsmodels.iolib.summary.Summary'>\n",
       "\"\"\"\n",
       "                           Logit Regression Results                           \n",
       "==============================================================================\n",
       "Dep. Variable:                    win   No. Observations:                  964\n",
       "Model:                          Logit   Df Residuals:                      962\n",
       "Method:                           MLE   Df Model:                            1\n",
       "Date:                Sun, 10 Nov 2019   Pseudo R-squ.:                  0.2928\n",
       "Time:                        11:20:59   Log-Likelihood:                -472.57\n",
       "converged:                       True   LL-Null:                       -668.19\n",
       "Covariance Type:            nonrobust   LLR p-value:                 4.417e-87\n",
       "================================================================================\n",
       "                   coef    std err          z      P>|z|      [0.025      0.975]\n",
       "--------------------------------------------------------------------------------\n",
       "rate_diff        0.0070      0.000     14.147      0.000       0.006       0.008\n",
       "fatigue_diff    -0.0054      0.002     -3.239      0.001      -0.009      -0.002\n",
       "================================================================================\n",
       "\"\"\""
      ]
     },
     "execution_count": 10,
     "metadata": {},
     "output_type": "execute_result"
    }
   ],
   "source": [
    "logit_res.summary()"
   ]
  },
  {
   "cell_type": "code",
   "execution_count": 11,
   "metadata": {},
   "outputs": [
    {
     "data": {
      "text/html": [
       "<div>\n",
       "<style scoped>\n",
       "    .dataframe tbody tr th:only-of-type {\n",
       "        vertical-align: middle;\n",
       "    }\n",
       "\n",
       "    .dataframe tbody tr th {\n",
       "        vertical-align: top;\n",
       "    }\n",
       "\n",
       "    .dataframe thead th {\n",
       "        text-align: right;\n",
       "    }\n",
       "</style>\n",
       "<table border=\"1\" class=\"dataframe\">\n",
       "  <thead>\n",
       "    <tr style=\"text-align: right;\">\n",
       "      <th></th>\n",
       "      <th>2.5%</th>\n",
       "      <th>97.5%</th>\n",
       "      <th>OR</th>\n",
       "    </tr>\n",
       "  </thead>\n",
       "  <tbody>\n",
       "    <tr>\n",
       "      <td>rate_diff</td>\n",
       "      <td>1.006018</td>\n",
       "      <td>1.007961</td>\n",
       "      <td>1.006989</td>\n",
       "    </tr>\n",
       "    <tr>\n",
       "      <td>fatigue_diff</td>\n",
       "      <td>0.991332</td>\n",
       "      <td>0.997861</td>\n",
       "      <td>0.994591</td>\n",
       "    </tr>\n",
       "  </tbody>\n",
       "</table>\n",
       "</div>"
      ],
      "text/plain": [
       "                  2.5%     97.5%        OR\n",
       "rate_diff     1.006018  1.007961  1.006989\n",
       "fatigue_diff  0.991332  0.997861  0.994591"
      ]
     },
     "execution_count": 11,
     "metadata": {},
     "output_type": "execute_result"
    }
   ],
   "source": [
    "#オッズ比\n",
    "params = logit_res.params\n",
    "conf = logit_res.conf_int()\n",
    "conf['OR'] = params\n",
    "conf.columns = ['2.5%', '97.5%', 'OR']\n",
    "pd.DataFrame(np.exp(conf))"
   ]
  },
  {
   "cell_type": "code",
   "execution_count": 12,
   "metadata": {},
   "outputs": [],
   "source": [
    "#錦織とナダルのサンプルデータ表示用\n",
    "\n",
    "x=[]\n",
    "winrate=[]\n",
    "for i in range(-30,30):\n",
    "    x.append(i*10)\n",
    "    winrate.append(logit_res.predict(np.array([[(2185-2408),i*10]])))"
   ]
  },
  {
   "cell_type": "code",
   "execution_count": 13,
   "metadata": {},
   "outputs": [
    {
     "data": {
      "image/png": "[encoded data removed]",
      "text/plain": [
       "<Figure size 432x288 with 1 Axes>"
      ]
     },
     "metadata": {
      "image/png": {
       "height": 267,
       "width": 390
      },
      "needs_background": "light"
     },
     "output_type": "display_data"
    }
   ],
   "source": [
    "plt.plot(x,winrate)\n",
    "plt.xlabel(\"疲労度の差\",fontsize=16)\n",
    "plt.ylabel(\"勝率\",fontsize=16)\n",
    "plt.show()"
   ]
  },
  {
   "cell_type": "code",
   "execution_count": null,
   "metadata": {},
   "outputs": [],
   "source": []
  }
 ],
 "metadata": {
  "file_extension": ".py",
  "kernelspec": {
   "display_name": "Python 3",
   "language": "python",
   "name": "python3"
  },
  "language_info": {
   "codemirror_mode": {
    "name": "ipython",
    "version": 3
   },
   "file_extension": ".py",
   "mimetype": "text/x-python",
   "name": "python",
   "nbconvert_exporter": "python",
   "pygments_lexer": "ipython3",
   "version": "3.6.8"
  },
  "mimetype": "text/x-python",
  "name": "python",
  "npconvert_exporter": "python",
  "pygments_lexer": "ipython3",
  "version": 3
 },
 "nbformat": 4,
 "nbformat_minor": 2
}

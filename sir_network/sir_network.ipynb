{
 "cells": [
  {
   "cell_type": "code",
   "execution_count": 1,
   "id": "45cc7544",
   "metadata": {},
   "outputs": [],
   "source": [
    "import numpy as np\n",
    "import pandas as pd\n",
    "import networkx as nx\n",
    "import matplotlib.pyplot as plt\n",
    "import ndlib.models.epidemics as ep\n",
    "import ndlib.models.ModelConfig as mc\n",
    "from bokeh.io import output_notebook, show\n",
    "from ndlib.viz.bokeh.DiffusionTrend import DiffusionTrend"
   ]
  },
  {
   "cell_type": "code",
   "execution_count": 2,
   "id": "e899646b",
   "metadata": {},
   "outputs": [],
   "source": [
    "#g=nx.watts_strogatz_graph(240000,20,0.1,seed=42) \n",
    "#g=nx.barabasi_albert_graph(240000,6,seed=42)\n",
    "g=nx.watts_strogatz_graph(240000,20,1,seed=42) #random graph \n",
    "model = ep.SIRModel(g,seed=42)"
   ]
  },
  {
   "cell_type": "code",
   "execution_count": 3,
   "id": "57270387",
   "metadata": {
    "scrolled": true
   },
   "outputs": [
    {
     "name": "stdout",
     "output_type": "stream",
     "text": [
      "0\n",
      "10\n",
      "20\n",
      "30\n",
      "40\n",
      "50\n",
      "60\n",
      "70\n",
      "80\n",
      "90\n",
      "100\n",
      "110\n",
      "CPU times: user 22.2 s, sys: 632 ms, total: 22.8 s\n",
      "Wall time: 24.6 s\n"
     ]
    }
   ],
   "source": [
    "%%time\n",
    "cfg = mc.Configuration()\n",
    "cfg.add_model_parameter('beta', 0.007) #感染率\n",
    "cfg.add_model_parameter('gamma', 1/14) #回復率(2週間)\n",
    "cfg.add_model_parameter(\"fraction_infected\", 10/240000) #初期感染率\n",
    "model.set_initial_status(cfg)\n",
    "\n",
    "S_num=[]\n",
    "I_num=[]\n",
    "R_num=[]\n",
    "for i in range(1000):\n",
    "    tmp_params=model.iteration()\n",
    "    #iterations =model.iteration_bunch(1)\n",
    "    #trends = model.build_trends(iterations)\n",
    "    S_num.append(tmp_params[\"node_count\"][0])\n",
    "    I_num.append(tmp_params[\"node_count\"][1])\n",
    "    R_num.append(tmp_params[\"node_count\"][2])\n",
    "    \n",
    "    if tmp_params[\"node_count\"][1]+tmp_params[\"node_count\"][2]>5000:\n",
    "        break\n",
    "    if i%10==0:\n",
    "        print(i)"
   ]
  },
  {
   "cell_type": "code",
   "execution_count": 4,
   "id": "470b986c",
   "metadata": {},
   "outputs": [
    {
     "data": {
      "text/plain": [
       "{0: 234779, 1: 2351, 2: 2870}"
      ]
     },
     "execution_count": 4,
     "metadata": {},
     "output_type": "execute_result"
    }
   ],
   "source": [
    "tmp_params[\"node_count\"]"
   ]
  },
  {
   "cell_type": "code",
   "execution_count": 5,
   "id": "1da3e672",
   "metadata": {},
   "outputs": [
    {
     "data": {
      "text/plain": [
       "[<matplotlib.lines.Line2D at 0x13088f7f0>]"
      ]
     },
     "execution_count": 5,
     "metadata": {},
     "output_type": "execute_result"
    },
    {
     "data": {
      "image/png": "[encoded data removed]",
      "text/plain": [
       "<Figure size 432x288 with 1 Axes>"
      ]
     },
     "metadata": {
      "needs_background": "light"
     },
     "output_type": "display_data"
    }
   ],
   "source": [
    "plt.plot(S_num)\n",
    "plt.plot(I_num)\n",
    "plt.plot(R_num)"
   ]
  },
  {
   "cell_type": "code",
   "execution_count": 6,
   "id": "6748b102",
   "metadata": {},
   "outputs": [],
   "source": [
    "# 感染者および治癒・死亡者のノードリスト作成\n",
    "inected=[]\n",
    "for i in range(len(model.status)):\n",
    "    if model.status[i]>0:\n",
    "        inected.append(i)"
   ]
  },
  {
   "cell_type": "code",
   "execution_count": 7,
   "id": "b1fc524e",
   "metadata": {},
   "outputs": [],
   "source": [
    "# 感染者を起点として各ノードへの経路長を計算(最大探索経路長2)。\n",
    "# 全感染者で実行後の最小値が各ノードから感染者への最小経路長となる。\n",
    "d={}\n",
    "for i in range(240000):\n",
    "    d[i]=99"
   ]
  },
  {
   "cell_type": "code",
   "execution_count": 8,
   "id": "a8d30701",
   "metadata": {
    "scrolled": true
   },
   "outputs": [
    {
     "name": "stdout",
     "output_type": "stream",
     "text": [
      "CPU times: user 12.2 s, sys: 201 ms, total: 12.4 s\n",
      "Wall time: 15.3 s\n"
     ]
    }
   ],
   "source": [
    "%%time\n",
    "# 各ノードから感染者への最短経路長を集計\n",
    "cnt=0\n",
    "for i in inected:\n",
    "    tmp=nx.single_source_shortest_path_length(g, i,cutoff=2) #カットオフ以下が帰る。\n",
    "    for k, v in tmp.items():\n",
    "        if d[k]>v:\n",
    "            d[k]=v"
   ]
  },
  {
   "cell_type": "code",
   "execution_count": 9,
   "id": "97b141f3",
   "metadata": {},
   "outputs": [
    {
     "data": {
      "text/plain": [
       "2     156564\n",
       "1      78096\n",
       "0       5221\n",
       "99       119\n",
       "dtype: int64"
      ]
     },
     "execution_count": 9,
     "metadata": {},
     "output_type": "execute_result"
    }
   ],
   "source": [
    "pd.Series(d.values()).value_counts()"
   ]
  }
 ],
 "metadata": {
  "kernelspec": {
   "display_name": "Python 3",
   "language": "python",
   "name": "python3"
  },
  "language_info": {
   "codemirror_mode": {
    "name": "ipython",
    "version": 3
   },
   "file_extension": ".py",
   "mimetype": "text/x-python",
   "name": "python",
   "nbconvert_exporter": "python",
   "pygments_lexer": "ipython3",
   "version": "3.6.8"
  }
 },
 "nbformat": 4,
 "nbformat_minor": 5
}

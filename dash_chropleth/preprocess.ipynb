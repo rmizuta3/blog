{
 "cells": [
  {
   "cell_type": "code",
   "execution_count": 1,
   "metadata": {},
   "outputs": [],
   "source": [
    "import pandas as pd"
   ]
  },
  {
   "cell_type": "code",
   "execution_count": 2,
   "metadata": {},
   "outputs": [],
   "source": [
    "df1=pd.read_csv(\"input/FEH_00200523_200813213809.csv\",encoding=\"cp932\")\n",
    "df2=pd.read_csv(\"input/FEH_00200523_200813213814.csv\",encoding=\"cp932\")"
   ]
  },
  {
   "cell_type": "code",
   "execution_count": 3,
   "metadata": {},
   "outputs": [],
   "source": [
    "df=pd.concat([df1,df2])"
   ]
  },
  {
   "cell_type": "code",
   "execution_count": 22,
   "metadata": {},
   "outputs": [
    {
     "data": {
      "text/html": [
       "<div>\n",
       "<style scoped>\n",
       "    .dataframe tbody tr th:only-of-type {\n",
       "        vertical-align: middle;\n",
       "    }\n",
       "\n",
       "    .dataframe tbody tr th {\n",
       "        vertical-align: top;\n",
       "    }\n",
       "\n",
       "    .dataframe thead th {\n",
       "        text-align: right;\n",
       "    }\n",
       "</style>\n",
       "<table border=\"1\" class=\"dataframe\">\n",
       "  <thead>\n",
       "    <tr style=\"text-align: right;\">\n",
       "      <th></th>\n",
       "      <th>tab_code</th>\n",
       "      <th>表章項目</th>\n",
       "      <th>cat01_code</th>\n",
       "      <th>性別</th>\n",
       "      <th>cat02_code</th>\n",
       "      <th>移動前の住所地</th>\n",
       "      <th>cat03_code</th>\n",
       "      <th>国籍</th>\n",
       "      <th>area_code</th>\n",
       "      <th>全国・都道府県・大都市</th>\n",
       "      <th>time_code</th>\n",
       "      <th>時間軸(年次)</th>\n",
       "      <th>unit</th>\n",
       "      <th>value</th>\n",
       "    </tr>\n",
       "  </thead>\n",
       "  <tbody>\n",
       "    <tr>\n",
       "      <th>0</th>\n",
       "      <td>5</td>\n",
       "      <td>都道府県間移動者数</td>\n",
       "      <td>0</td>\n",
       "      <td>総数</td>\n",
       "      <td>0</td>\n",
       "      <td>総数</td>\n",
       "      <td>60000</td>\n",
       "      <td>移動者</td>\n",
       "      <td>0</td>\n",
       "      <td>全国</td>\n",
       "      <td>2019000000</td>\n",
       "      <td>2019年</td>\n",
       "      <td>人</td>\n",
       "      <td>2568086</td>\n",
       "    </tr>\n",
       "    <tr>\n",
       "      <th>1</th>\n",
       "      <td>5</td>\n",
       "      <td>都道府県間移動者数</td>\n",
       "      <td>0</td>\n",
       "      <td>総数</td>\n",
       "      <td>0</td>\n",
       "      <td>総数</td>\n",
       "      <td>60000</td>\n",
       "      <td>移動者</td>\n",
       "      <td>0</td>\n",
       "      <td>全国</td>\n",
       "      <td>2018000000</td>\n",
       "      <td>2018年</td>\n",
       "      <td>人</td>\n",
       "      <td>2535601</td>\n",
       "    </tr>\n",
       "    <tr>\n",
       "      <th>2</th>\n",
       "      <td>5</td>\n",
       "      <td>都道府県間移動者数</td>\n",
       "      <td>0</td>\n",
       "      <td>総数</td>\n",
       "      <td>0</td>\n",
       "      <td>総数</td>\n",
       "      <td>60000</td>\n",
       "      <td>移動者</td>\n",
       "      <td>0</td>\n",
       "      <td>全国</td>\n",
       "      <td>2017000000</td>\n",
       "      <td>2017年</td>\n",
       "      <td>人</td>\n",
       "      <td>2505064</td>\n",
       "    </tr>\n",
       "    <tr>\n",
       "      <th>3</th>\n",
       "      <td>5</td>\n",
       "      <td>都道府県間移動者数</td>\n",
       "      <td>0</td>\n",
       "      <td>総数</td>\n",
       "      <td>0</td>\n",
       "      <td>総数</td>\n",
       "      <td>60000</td>\n",
       "      <td>移動者</td>\n",
       "      <td>0</td>\n",
       "      <td>全国</td>\n",
       "      <td>2016000000</td>\n",
       "      <td>2016年</td>\n",
       "      <td>人</td>\n",
       "      <td>2460346</td>\n",
       "    </tr>\n",
       "    <tr>\n",
       "      <th>4</th>\n",
       "      <td>5</td>\n",
       "      <td>都道府県間移動者数</td>\n",
       "      <td>0</td>\n",
       "      <td>総数</td>\n",
       "      <td>0</td>\n",
       "      <td>総数</td>\n",
       "      <td>60000</td>\n",
       "      <td>移動者</td>\n",
       "      <td>0</td>\n",
       "      <td>全国</td>\n",
       "      <td>2015000000</td>\n",
       "      <td>2015年</td>\n",
       "      <td>人</td>\n",
       "      <td>2502780</td>\n",
       "    </tr>\n",
       "  </tbody>\n",
       "</table>\n",
       "</div>"
      ],
      "text/plain": [
       "   tab_code       表章項目  cat01_code  性別  cat02_code 移動前の住所地  cat03_code   国籍  \\\n",
       "0         5  都道府県間移動者数           0  総数           0      総数       60000  移動者   \n",
       "1         5  都道府県間移動者数           0  総数           0      総数       60000  移動者   \n",
       "2         5  都道府県間移動者数           0  総数           0      総数       60000  移動者   \n",
       "3         5  都道府県間移動者数           0  総数           0      総数       60000  移動者   \n",
       "4         5  都道府県間移動者数           0  総数           0      総数       60000  移動者   \n",
       "\n",
       "   area_code 全国・都道府県・大都市   time_code 時間軸(年次) unit    value  \n",
       "0          0          全国  2019000000   2019年    人  2568086  \n",
       "1          0          全国  2018000000   2018年    人  2535601  \n",
       "2          0          全国  2017000000   2017年    人  2505064  \n",
       "3          0          全国  2016000000   2016年    人  2460346  \n",
       "4          0          全国  2015000000   2015年    人  2502780  "
      ]
     },
     "execution_count": 22,
     "metadata": {},
     "output_type": "execute_result"
    }
   ],
   "source": [
    "df.head()"
   ]
  },
  {
   "cell_type": "code",
   "execution_count": 6,
   "metadata": {},
   "outputs": [
    {
     "data": {
      "text/plain": [
       "array(['総数', '北海道', '青森県', '岩手県', '宮城県', '秋田県', '山形県', '福島県', '茨城県',\n",
       "       '栃木県', '群馬県', '埼玉県', '千葉県', '東京都', '神奈川県', '新潟県', '富山県', '石川県',\n",
       "       '福井県', '山梨県', '長野県', '岐阜県', '静岡県', '愛知県', '三重県', '滋賀県', '京都府',\n",
       "       '大阪府', '兵庫県', '奈良県', '和歌山県', '鳥取県', '島根県', '岡山県', '広島県', '山口県',\n",
       "       '徳島県', '香川県', '愛媛県', '高知県', '福岡県', '佐賀県', '長崎県', '熊本県', '大分県',\n",
       "       '宮崎県', '鹿児島県', '沖縄県', '東京圏', '名古屋圏', '大阪圏', '21大都市計', '札幌市', '仙台市',\n",
       "       'さいたま市', '千葉市', '東京都特別区部', '横浜市', '川崎市', '相模原市', '新潟市', '静岡市',\n",
       "       '浜松市', '名古屋市', '京都市', '大阪市', '堺市', '神戸市', '岡山市', '広島市', '北九州市',\n",
       "       '福岡市', '熊本市', 'その他'], dtype=object)"
      ]
     },
     "execution_count": 6,
     "metadata": {},
     "output_type": "execute_result"
    }
   ],
   "source": [
    "df[\"移動前の住所地\"].unique()"
   ]
  },
  {
   "cell_type": "code",
   "execution_count": 9,
   "metadata": {},
   "outputs": [],
   "source": [
    "useken=['北海道', '青森県', '岩手県', '宮城県', '秋田県', '山形県', '福島県', '茨城県',\n",
    "       '栃木県', '群馬県', '埼玉県', '千葉県', '東京都', '神奈川県', '新潟県', '富山県', '石川県',\n",
    "       '福井県', '山梨県', '長野県', '岐阜県', '静岡県', '愛知県', '三重県', '滋賀県', '京都府',\n",
    "       '大阪府', '兵庫県', '奈良県', '和歌山県', '鳥取県', '島根県', '岡山県', '広島県', '山口県',\n",
    "       '徳島県', '香川県', '愛媛県', '高知県', '福岡県', '佐賀県', '長崎県', '熊本県', '大分県',\n",
    "       '宮崎県', '鹿児島県', '沖縄県']"
   ]
  },
  {
   "cell_type": "code",
   "execution_count": 10,
   "metadata": {},
   "outputs": [
    {
     "data": {
      "text/plain": [
       "47"
      ]
     },
     "execution_count": 10,
     "metadata": {},
     "output_type": "execute_result"
    }
   ],
   "source": [
    "len(useken)"
   ]
  },
  {
   "cell_type": "code",
   "execution_count": 7,
   "metadata": {},
   "outputs": [
    {
     "data": {
      "text/plain": [
       "array(['移動者', '日本人移動者'], dtype=object)"
      ]
     },
     "execution_count": 7,
     "metadata": {},
     "output_type": "execute_result"
    }
   ],
   "source": [
    "df[\"国籍\"].unique()"
   ]
  },
  {
   "cell_type": "code",
   "execution_count": 8,
   "metadata": {},
   "outputs": [
    {
     "data": {
      "text/plain": [
       "array(['総数', '男', '女'], dtype=object)"
      ]
     },
     "execution_count": 8,
     "metadata": {},
     "output_type": "execute_result"
    }
   ],
   "source": [
    "df[\"性別\"].unique()"
   ]
  },
  {
   "cell_type": "code",
   "execution_count": 11,
   "metadata": {},
   "outputs": [],
   "source": [
    "out=df[(df[\"移動前の住所地\"].isin(useken) )& df[\"全国・都道府県・大都市\"].isin(useken) ]"
   ]
  },
  {
   "cell_type": "code",
   "execution_count": 14,
   "metadata": {},
   "outputs": [
    {
     "name": "stderr",
     "output_type": "stream",
     "text": [
      "/Users/rmizuta/.pyenv/versions/anaconda3-5.2.0/lib/python3.6/site-packages/ipykernel_launcher.py:1: SettingWithCopyWarning: \n",
      "A value is trying to be set on a copy of a slice from a DataFrame.\n",
      "Try using .loc[row_indexer,col_indexer] = value instead\n",
      "\n",
      "See the caveats in the documentation: https://pandas.pydata.org/pandas-docs/stable/user_guide/indexing.html#returning-a-view-versus-a-copy\n",
      "  \"\"\"Entry point for launching an IPython kernel.\n"
     ]
    }
   ],
   "source": [
    "out[\"area_code\"]=out[\"area_code\"]/1000"
   ]
  },
  {
   "cell_type": "code",
   "execution_count": 16,
   "metadata": {},
   "outputs": [],
   "source": [
    "out[['性別', '移動前の住所地','国籍', 'area_code', '全国・都道府県・大都市', '時間軸(年次)', 'value']].to_csv(\"FEH.csv\",index=False)"
   ]
  },
  {
   "cell_type": "code",
   "execution_count": 29,
   "metadata": {},
   "outputs": [
    {
     "data": {
      "text/html": [
       "<div>\n",
       "<style scoped>\n",
       "    .dataframe tbody tr th:only-of-type {\n",
       "        vertical-align: middle;\n",
       "    }\n",
       "\n",
       "    .dataframe tbody tr th {\n",
       "        vertical-align: top;\n",
       "    }\n",
       "\n",
       "    .dataframe thead th {\n",
       "        text-align: right;\n",
       "    }\n",
       "</style>\n",
       "<table border=\"1\" class=\"dataframe\">\n",
       "  <thead>\n",
       "    <tr style=\"text-align: right;\">\n",
       "      <th></th>\n",
       "      <th>性別</th>\n",
       "      <th>移動前の住所地</th>\n",
       "      <th>国籍</th>\n",
       "      <th>area_code</th>\n",
       "      <th>全国・都道府県・大都市</th>\n",
       "      <th>時間軸(年次)</th>\n",
       "      <th>value</th>\n",
       "    </tr>\n",
       "  </thead>\n",
       "  <tbody>\n",
       "    <tr>\n",
       "      <th>72823</th>\n",
       "      <td>男</td>\n",
       "      <td>栃木県</td>\n",
       "      <td>移動者</td>\n",
       "      <td>19.0</td>\n",
       "      <td>山梨県</td>\n",
       "      <td>2018年</td>\n",
       "      <td>150</td>\n",
       "    </tr>\n",
       "    <tr>\n",
       "      <th>39003</th>\n",
       "      <td>女</td>\n",
       "      <td>群馬県</td>\n",
       "      <td>日本人移動者</td>\n",
       "      <td>26.0</td>\n",
       "      <td>京都府</td>\n",
       "      <td>2018年</td>\n",
       "      <td>83</td>\n",
       "    </tr>\n",
       "    <tr>\n",
       "      <th>3736</th>\n",
       "      <td>総数</td>\n",
       "      <td>宮城県</td>\n",
       "      <td>移動者</td>\n",
       "      <td>38.0</td>\n",
       "      <td>愛媛県</td>\n",
       "      <td>2015年</td>\n",
       "      <td>104</td>\n",
       "    </tr>\n",
       "    <tr>\n",
       "      <th>4091</th>\n",
       "      <td>総数</td>\n",
       "      <td>宮城県</td>\n",
       "      <td>日本人移動者</td>\n",
       "      <td>24.0</td>\n",
       "      <td>三重県</td>\n",
       "      <td>2014年</td>\n",
       "      <td>196</td>\n",
       "    </tr>\n",
       "    <tr>\n",
       "      <th>43691</th>\n",
       "      <td>女</td>\n",
       "      <td>富山県</td>\n",
       "      <td>移動者</td>\n",
       "      <td>4.0</td>\n",
       "      <td>宮城県</td>\n",
       "      <td>2016年</td>\n",
       "      <td>64</td>\n",
       "    </tr>\n",
       "    <tr>\n",
       "      <th>32063</th>\n",
       "      <td>女</td>\n",
       "      <td>青森県</td>\n",
       "      <td>日本人移動者</td>\n",
       "      <td>37.0</td>\n",
       "      <td>香川県</td>\n",
       "      <td>2016年</td>\n",
       "      <td>10</td>\n",
       "    </tr>\n",
       "    <tr>\n",
       "      <th>99193</th>\n",
       "      <td>男</td>\n",
       "      <td>高知県</td>\n",
       "      <td>移動者</td>\n",
       "      <td>34.0</td>\n",
       "      <td>広島県</td>\n",
       "      <td>2018年</td>\n",
       "      <td>250</td>\n",
       "    </tr>\n",
       "    <tr>\n",
       "      <th>38943</th>\n",
       "      <td>女</td>\n",
       "      <td>群馬県</td>\n",
       "      <td>日本人移動者</td>\n",
       "      <td>16.0</td>\n",
       "      <td>富山県</td>\n",
       "      <td>2018年</td>\n",
       "      <td>47</td>\n",
       "    </tr>\n",
       "    <tr>\n",
       "      <th>30787</th>\n",
       "      <td>女</td>\n",
       "      <td>北海道</td>\n",
       "      <td>移動者</td>\n",
       "      <td>43.0</td>\n",
       "      <td>熊本県</td>\n",
       "      <td>2014年</td>\n",
       "      <td>111</td>\n",
       "    </tr>\n",
       "    <tr>\n",
       "      <th>31440</th>\n",
       "      <td>女</td>\n",
       "      <td>青森県</td>\n",
       "      <td>移動者</td>\n",
       "      <td>6.0</td>\n",
       "      <td>山形県</td>\n",
       "      <td>2015年</td>\n",
       "      <td>147</td>\n",
       "    </tr>\n",
       "  </tbody>\n",
       "</table>\n",
       "</div>"
      ],
      "text/plain": [
       "       性別 移動前の住所地      国籍  area_code 全国・都道府県・大都市 時間軸(年次) value\n",
       "72823   男     栃木県     移動者       19.0         山梨県   2018年   150\n",
       "39003   女     群馬県  日本人移動者       26.0         京都府   2018年    83\n",
       "3736   総数     宮城県     移動者       38.0         愛媛県   2015年   104\n",
       "4091   総数     宮城県  日本人移動者       24.0         三重県   2014年   196\n",
       "43691   女     富山県     移動者        4.0         宮城県   2016年    64\n",
       "32063   女     青森県  日本人移動者       37.0         香川県   2016年    10\n",
       "99193   男     高知県     移動者       34.0         広島県   2018年   250\n",
       "38943   女     群馬県  日本人移動者       16.0         富山県   2018年    47\n",
       "30787   女     北海道     移動者       43.0         熊本県   2014年   111\n",
       "31440   女     青森県     移動者        6.0         山形県   2015年   147"
      ]
     },
     "execution_count": 29,
     "metadata": {},
     "output_type": "execute_result"
    }
   ],
   "source": [
    "out[['性別', '移動前の住所地','国籍', 'area_code', '全国・都道府県・大都市', '時間軸(年次)', 'value']].sample(10)"
   ]
  },
  {
   "cell_type": "code",
   "execution_count": null,
   "metadata": {},
   "outputs": [],
   "source": []
  }
 ],
 "metadata": {
  "kernelspec": {
   "display_name": "Python 3",
   "language": "python",
   "name": "python3"
  },
  "language_info": {
   "codemirror_mode": {
    "name": "ipython",
    "version": 3
   },
   "file_extension": ".py",
   "mimetype": "text/x-python",
   "name": "python",
   "nbconvert_exporter": "python",
   "pygments_lexer": "ipython3",
   "version": "3.6.8"
  }
 },
 "nbformat": 4,
 "nbformat_minor": 2
}
